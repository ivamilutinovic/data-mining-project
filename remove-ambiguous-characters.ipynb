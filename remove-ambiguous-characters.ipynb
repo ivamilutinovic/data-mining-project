{
 "cells": [
  {
   "cell_type": "code",
   "execution_count": 4,
   "id": "61592d46-a6cb-4a65-97ef-b5fd0511d441",
   "metadata": {},
   "outputs": [],
   "source": [
    "def clean_fasta_amino_acid_in_place(file_path):\n",
    "    \"\"\"\n",
    "    Clean an amino acid FASTA file by removing ambiguous characters in place.\n",
    "    \"\"\"\n",
    "    with open(file_path, 'r') as infile:\n",
    "        lines = infile.readlines()\n",
    "\n",
    "    with open(file_path, 'w') as outfile:\n",
    "        current_header = None\n",
    "        for line in lines:\n",
    "            if line.startswith('>'):\n",
    "                current_header = line.strip()\n",
    "                outfile.write(current_header + '\\n')\n",
    "            else:\n",
    "                sequence = line.strip()\n",
    "                clean_sequence = ''.join([char for char in sequence if char not in \"BZXJ\"])\n",
    "                outfile.write(clean_sequence + '\\n')"
   ]
  },
  {
   "cell_type": "code",
   "execution_count": 5,
   "id": "6ac04e4d-c4a5-42a6-9d1f-acf03b9befa2",
   "metadata": {},
   "outputs": [],
   "source": [
    "def clean_fasta_nucleotide_in_place(file_path):\n",
    "    \"\"\"\n",
    "    Clean a nucleotide FASTA file by removing ambiguous characters in place.\n",
    "    \"\"\"\n",
    "    with open(file_path, 'r') as infile:\n",
    "        lines = infile.readlines()\n",
    "\n",
    "    with open(file_path, 'w') as outfile:\n",
    "        current_header = None\n",
    "        for line in lines:\n",
    "            if line.startswith('>'):\n",
    "                current_header = line.strip()\n",
    "                outfile.write(current_header + '\\n')\n",
    "            else:\n",
    "                sequence = line.strip()\n",
    "                clean_sequence = ''.join([char for char in sequence if char not in \"RYSWKMBDHVN\"])\n",
    "                outfile.write(clean_sequence + '\\n')"
   ]
  },
  {
   "cell_type": "code",
   "execution_count": 8,
   "id": "5d3140e3-fcb4-42e5-899b-c1892465c460",
   "metadata": {},
   "outputs": [],
   "source": [
    "ebola_nucleotide = \"data/ebola-nucleotide.fasta\"\n",
    "mers_nucleotide = \"data/mers-nucleotide.fasta\"\n",
    "marburg_nucleotide = \"data/marburg-nucleotide.fasta\"\n",
    "clean_fasta_nucleotide_in_place(ebola_nucleotide)\n",
    "clean_fasta_nucleotide_in_place(mers_nucleotide)\n",
    "clean_fasta_nucleotide_in_place(marburg_nucleotide)\n",
    "\n",
    "ebola_amino_acid = \"data/ebola-amino-acid.fasta\"\n",
    "mers_amino_acid = \"data/mers-amino-acid.fasta\"\n",
    "marburg_amino_acid = \"data/marburg-amino-acid.fasta\"\n",
    "clean_fasta_amino_acid_in_place(ebola_amino_acid)\n",
    "clean_fasta_amino_acid_in_place(mers_amino_acid)\n",
    "clean_fasta_amino_acid_in_place(marburg_amino_acid)"
   ]
  }
 ],
 "metadata": {
  "kernelspec": {
   "display_name": "Python 3 (ipykernel)",
   "language": "python",
   "name": "python3"
  },
  "language_info": {
   "codemirror_mode": {
    "name": "ipython",
    "version": 3
   },
   "file_extension": ".py",
   "mimetype": "text/x-python",
   "name": "python",
   "nbconvert_exporter": "python",
   "pygments_lexer": "ipython3",
   "version": "3.10.12"
  }
 },
 "nbformat": 4,
 "nbformat_minor": 5
}
